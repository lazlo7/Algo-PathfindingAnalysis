{
 "cells": [
  {
   "cell_type": "code",
   "execution_count": 2,
   "metadata": {},
   "outputs": [],
   "source": [
    "# Нужные библиотеки.\n",
    "import pandas as pd\n",
    "import matplotlib.pyplot as plt"
   ]
  },
  {
   "cell_type": "code",
   "execution_count": null,
   "metadata": {},
   "outputs": [],
   "source": [
    "# Загружаем .csv таблицу.\n",
    "# Заголовок: graph_type,vertex_count,edge_count,pathfinder,time_nanos\n",
    "input_file = \"../build/out.csv\"\n",
    "output_directory=\"../pics/\"\n",
    "df = pd.read_csv(input_file, sep=\",\")"
   ]
  },
  {
   "cell_type": "code",
   "execution_count": null,
   "metadata": {},
   "outputs": [],
   "source": [
    "def graph_type_to_readable(graph_type: str) -> str:\n",
    "    types = {'Full': 'Полные графы', 'Partial': 'Связные графы', 'Tree': 'Разреженные графы'}\n",
    "    return types[graph_type]"
   ]
  },
  {
   "cell_type": "code",
   "execution_count": null,
   "metadata": {},
   "outputs": [],
   "source": [
    "# Строит графики для алгоритма по числу вершин\n",
    "def plot_pathfinder_vertex_count(pathfinder: str) -> None:\n",
    "    filtered_df = df[(df[\"pathfinder\"] == pathfinder) & (df[\"graph_type\"] == graph_type)]\n",
    "    for graph_type in filtered_df[\"graph_type\"].unique():\n",
    "        plt.plot(filtered_df[filtered_df[\"graph_type\"] == graph_type][\"vertex_count\"], \n",
    "                 filtered_df[filtered_df[\"graph_type\"] == graph_type][\"time_nanos\"], \n",
    "                 label=graph_type_to_readable(graph_type))\n",
    "    plt.grid()\n",
    "    plt.legend()\n",
    "    plt.xlabel(\"Число вершин\")\n",
    "    plt.ylabel(\"Время, нс.\")\n",
    "    plt.title(f\"Алгоритм {pathfinder}\")\n",
    "    plt.savefig(output_directory + f\"one-algorithm_vertex-count_{pathfinder}-algorithm.png\");\n",
    "    plt.show()"
   ]
  },
  {
   "cell_type": "code",
   "execution_count": null,
   "metadata": {},
   "outputs": [],
   "source": [
    "# Строит графики для алгоритма по числу ребер\n",
    "def plot_pathfinder_edge_count(pathfinder: str) -> None:\n",
    "    filtered_df = df[df[\"pathfinder\"] == pathfinder]\n",
    "    for graph_type in filtered_df[\"graph_type\"].unique():\n",
    "        plt.plot(filtered_df[filtered_df[\"graph_type\"] == graph_type][\"edge_count\"], \n",
    "                 filtered_df[filtered_df[\"graph_type\"] == graph_type][\"time_nanos\"], \n",
    "                 label=graph_type_to_readable(graph_type))\n",
    "    plt.grid()\n",
    "    plt.legend()\n",
    "    plt.xlabel(\"Число ребер\")\n",
    "    plt.ylabel(\"Время, нс.\")\n",
    "    plt.title(f\"Алгоритм {pathfinder}\")\n",
    "    plt.savefig(output_directory + f\"one-algorithm_edge-count_{pathfinder}-algorithm.png\");\n",
    "    plt.show()"
   ]
  },
  {
   "cell_type": "code",
   "execution_count": null,
   "metadata": {},
   "outputs": [],
   "source": [
    "# Строит графики для всех алгоритмов по числу вершин\n",
    "def plot_graph_type_vertex_count(graph_type: str) -> None:\n",
    "    filtered_df = df[df[\"graph_type\"] == graph_type]\n",
    "    for pathfinder in filtered_df[\"pathfinder\"].unique():\n",
    "        plt.plot(filtered_df[filtered_df[\"pathfinder\"] == pathfinder][\"vertex_count\"], \n",
    "                 filtered_df[filtered_df[\"pathfinder\"] == pathfinder][\"time_nanos\"], \n",
    "                 label=pathfinder)\n",
    "    plt.grid()\n",
    "    plt.legend()\n",
    "    plt.xlabel(\"Число вершин\")\n",
    "    plt.ylabel(\"Время, нс.\")\n",
    "    plt.title(graph_type_to_readable(graph_type))\n",
    "    plt.savefig(output_directory + f\"many-algorithms_vertex-count_{graph_type}-graph-type.png\");\n",
    "    plt.show()"
   ]
  },
  {
   "cell_type": "code",
   "execution_count": null,
   "metadata": {},
   "outputs": [],
   "source": [
    "# Строит графики для всех алгоритмов по числу ребер\n",
    "def plot_graph_type_edge_count(graph_type: str) -> None:\n",
    "    filtered_df = df[df[\"graph_type\"] == graph_type]\n",
    "    for pathfinder in filtered_df[\"pathfinder\"].unique():\n",
    "        plt.plot(filtered_df[filtered_df[\"pathfinder\"] == pathfinder][\"edge_count\"], \n",
    "                 filtered_df[filtered_df[\"pathfinder\"] == pathfinder][\"time_nanos\"], \n",
    "                 label=pathfinder)\n",
    "    plt.grid()\n",
    "    plt.legend()\n",
    "    plt.xlabel(\"Число ребер\")\n",
    "    plt.ylabel(\"Время, нс.\")\n",
    "    plt.title(graph_type_to_readable(graph_type))\n",
    "    plt.savefig(output_directory + f\"many-algorithms_edge-count_{graph_type}-graph-type.png\");\n",
    "    plt.show()"
   ]
  },
  {
   "cell_type": "code",
   "execution_count": null,
   "metadata": {},
   "outputs": [],
   "source": [
    "# Строим графики по каждому алгоритму\n",
    "for pathfinder in df[\"pathfinder\"].unique():\n",
    "    plot_pathfinder_vertex_count(pathfinder)\n",
    "    plot_pathfinder_edge_count(pathfinder)"
   ]
  },
  {
   "cell_type": "code",
   "execution_count": null,
   "metadata": {},
   "outputs": [],
   "source": [
    "# Строим графики по всем алгоритмам\n",
    "for graph_type in df[\"graph_type\"].unique():\n",
    "    plot_graph_type_vertex_count(graph_type)\n",
    "    plot_graph_type_edge_count(graph_type)"
   ]
  }
 ],
 "metadata": {
  "kernelspec": {
   "display_name": "Python 3",
   "language": "python",
   "name": "python3"
  },
  "language_info": {
   "codemirror_mode": {
    "name": "ipython",
    "version": 3
   },
   "file_extension": ".py",
   "mimetype": "text/x-python",
   "name": "python",
   "nbconvert_exporter": "python",
   "pygments_lexer": "ipython3",
   "version": "3.10.6"
  },
  "orig_nbformat": 4
 },
 "nbformat": 4,
 "nbformat_minor": 2
}
