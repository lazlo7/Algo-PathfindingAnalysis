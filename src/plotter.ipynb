{
 "cells": [
  {
   "cell_type": "code",
   "execution_count": 34,
   "metadata": {},
   "outputs": [],
   "source": [
    "# Нужные библиотеки.\n",
    "import pandas as pd\n",
    "import matplotlib.pyplot as plt"
   ]
  },
  {
   "cell_type": "code",
   "execution_count": 42,
   "metadata": {},
   "outputs": [
    {
     "data": {
      "text/html": [
       "<div>\n",
       "<style scoped>\n",
       "    .dataframe tbody tr th:only-of-type {\n",
       "        vertical-align: middle;\n",
       "    }\n",
       "\n",
       "    .dataframe tbody tr th {\n",
       "        vertical-align: top;\n",
       "    }\n",
       "\n",
       "    .dataframe thead th {\n",
       "        text-align: right;\n",
       "    }\n",
       "</style>\n",
       "<table border=\"1\" class=\"dataframe\">\n",
       "  <thead>\n",
       "    <tr style=\"text-align: right;\">\n",
       "      <th></th>\n",
       "      <th>graph_type</th>\n",
       "      <th>vertex_count</th>\n",
       "      <th>edge_count</th>\n",
       "      <th>pathfinder</th>\n",
       "      <th>time_nanos</th>\n",
       "      <th>Unnamed: 5</th>\n",
       "    </tr>\n",
       "  </thead>\n",
       "  <tbody>\n",
       "    <tr>\n",
       "      <th>0</th>\n",
       "      <td>Full</td>\n",
       "      <td>10</td>\n",
       "      <td>10</td>\n",
       "      <td>45</td>\n",
       "      <td>Dijkstra</td>\n",
       "      <td>1044</td>\n",
       "    </tr>\n",
       "    <tr>\n",
       "      <th>1</th>\n",
       "      <td>Full</td>\n",
       "      <td>10</td>\n",
       "      <td>10</td>\n",
       "      <td>45</td>\n",
       "      <td>Floyd-Warshall</td>\n",
       "      <td>6736</td>\n",
       "    </tr>\n",
       "    <tr>\n",
       "      <th>2</th>\n",
       "      <td>Full</td>\n",
       "      <td>10</td>\n",
       "      <td>10</td>\n",
       "      <td>45</td>\n",
       "      <td>Bellman-Ford</td>\n",
       "      <td>10390</td>\n",
       "    </tr>\n",
       "    <tr>\n",
       "      <th>3</th>\n",
       "      <td>Full</td>\n",
       "      <td>10</td>\n",
       "      <td>10</td>\n",
       "      <td>45</td>\n",
       "      <td>SPFA</td>\n",
       "      <td>657</td>\n",
       "    </tr>\n",
       "    <tr>\n",
       "      <th>4</th>\n",
       "      <td>Full</td>\n",
       "      <td>60</td>\n",
       "      <td>60</td>\n",
       "      <td>1770</td>\n",
       "      <td>Dijkstra</td>\n",
       "      <td>30495</td>\n",
       "    </tr>\n",
       "  </tbody>\n",
       "</table>\n",
       "</div>"
      ],
      "text/plain": [
       "  graph_type  vertex_count  edge_count  pathfinder      time_nanos  Unnamed: 5\n",
       "0       Full            10          10          45        Dijkstra        1044\n",
       "1       Full            10          10          45  Floyd-Warshall        6736\n",
       "2       Full            10          10          45    Bellman-Ford       10390\n",
       "3       Full            10          10          45            SPFA         657\n",
       "4       Full            60          60        1770        Dijkstra       30495"
      ]
     },
     "execution_count": 42,
     "metadata": {},
     "output_type": "execute_result"
    }
   ],
   "source": [
    "# Загружаем .csv таблицу.\n",
    "# Заголовок: graph_type,vertex_count,edge_count,pathfinder,time_nanos\n",
    "input_file = \"../build/out.csv\"\n",
    "output_directory=\"../pics/\"\n",
    "df = pd.read_csv(input_file, sep=\";\")\n",
    "df.head()"
   ]
  },
  {
   "cell_type": "code",
   "execution_count": 36,
   "metadata": {},
   "outputs": [],
   "source": [
    "def graph_type_to_readable(graph_type: str) -> str:\n",
    "    types = {'Full': 'Полные графы', 'Partial': 'Связные графы', 'Tree': 'Разреженные графы'}\n",
    "    return types[graph_type]"
   ]
  },
  {
   "cell_type": "code",
   "execution_count": 37,
   "metadata": {},
   "outputs": [],
   "source": [
    "# Строит графики для алгоритма по числу вершин\n",
    "def plot_pathfinder_vertex_count(pathfinder: str) -> None:\n",
    "    filtered_df = df[(df[\"pathfinder\"] == pathfinder)]\n",
    "    for graph_type in filtered_df[\"graph_type\"].unique():\n",
    "        print(graph_type)\n",
    "        plt.plot(filtered_df[filtered_df[\"graph_type\"] == graph_type][\"vertex_count\"], \n",
    "                 filtered_df[filtered_df[\"graph_type\"] == graph_type][\"time_nanos\"], \n",
    "                 label=graph_type_to_readable(graph_type))\n",
    "    plt.grid()\n",
    "    plt.legend()\n",
    "    plt.xlabel(\"Число вершин\")\n",
    "    plt.ylabel(\"Время, нс.\")\n",
    "    plt.title(f\"Алгоритм {pathfinder}\")\n",
    "    plt.savefig(output_directory + f\"one-algorithm_vertex-count_{pathfinder}-algorithm.png\");\n",
    "    plt.show()"
   ]
  },
  {
   "cell_type": "code",
   "execution_count": 38,
   "metadata": {},
   "outputs": [],
   "source": [
    "# Строит графики для алгоритма по числу ребер\n",
    "def plot_pathfinder_edge_count(pathfinder: str) -> None:\n",
    "    filtered_df = df[df[\"pathfinder\"] == pathfinder]\n",
    "    for graph_type in filtered_df[\"graph_type\"].unique():\n",
    "        plt.plot(filtered_df[filtered_df[\"graph_type\"] == graph_type][\"edge_count\"], \n",
    "                 filtered_df[filtered_df[\"graph_type\"] == graph_type][\"time_nanos\"], \n",
    "                 label=graph_type_to_readable(graph_type))\n",
    "    plt.grid()\n",
    "    plt.legend()\n",
    "    plt.xlabel(\"Число ребер\")\n",
    "    plt.ylabel(\"Время, нс.\")\n",
    "    plt.title(f\"Алгоритм {pathfinder}\")\n",
    "    plt.savefig(output_directory + f\"one-algorithm_edge-count_{pathfinder}-algorithm.png\");\n",
    "    plt.show()"
   ]
  },
  {
   "cell_type": "code",
   "execution_count": 39,
   "metadata": {},
   "outputs": [],
   "source": [
    "# Строит графики для всех алгоритмов по числу вершин\n",
    "def plot_graph_type_vertex_count(graph_type: str) -> None:\n",
    "    filtered_df = df[df[\"graph_type\"] == graph_type]\n",
    "    for pathfinder in filtered_df[\"pathfinder\"].unique():\n",
    "        plt.plot(filtered_df[filtered_df[\"pathfinder\"] == pathfinder][\"vertex_count\"], \n",
    "                 filtered_df[filtered_df[\"pathfinder\"] == pathfinder][\"time_nanos\"], \n",
    "                 label=pathfinder)\n",
    "    plt.grid()\n",
    "    plt.legend()\n",
    "    plt.xlabel(\"Число вершин\")\n",
    "    plt.ylabel(\"Время, нс.\")\n",
    "    plt.title(graph_type_to_readable(graph_type))\n",
    "    plt.savefig(output_directory + f\"many-algorithms_vertex-count_{graph_type}-graph-type.png\");\n",
    "    plt.show()"
   ]
  },
  {
   "cell_type": "code",
   "execution_count": 40,
   "metadata": {},
   "outputs": [],
   "source": [
    "# Строит графики для всех алгоритмов по числу ребер\n",
    "def plot_graph_type_edge_count(graph_type: str) -> None:\n",
    "    filtered_df = df[df[\"graph_type\"] == graph_type]\n",
    "    for pathfinder in filtered_df[\"pathfinder\"].unique():\n",
    "        plt.plot(filtered_df[filtered_df[\"pathfinder\"] == pathfinder][\"edge_count\"], \n",
    "                 filtered_df[filtered_df[\"pathfinder\"] == pathfinder][\"time_nanos\"], \n",
    "                 label=pathfinder)\n",
    "    plt.grid()\n",
    "    plt.legend()\n",
    "    plt.xlabel(\"Число ребер\")\n",
    "    plt.ylabel(\"Время, нс.\")\n",
    "    plt.title(graph_type_to_readable(graph_type))\n",
    "    plt.savefig(output_directory + f\"many-algorithms_edge-count_{graph_type}-graph-type.png\");\n",
    "    plt.show()"
   ]
  },
  {
   "cell_type": "code",
   "execution_count": 41,
   "metadata": {},
   "outputs": [
    {
     "name": "stdout",
     "output_type": "stream",
     "text": [
      "10\n"
     ]
    },
    {
     "ename": "KeyError",
     "evalue": "10",
     "output_type": "error",
     "traceback": [
      "\u001b[0;31m---------------------------------------------------------------------------\u001b[0m",
      "\u001b[0;31mKeyError\u001b[0m                                  Traceback (most recent call last)",
      "Cell \u001b[0;32mIn[41], line 3\u001b[0m\n\u001b[1;32m      1\u001b[0m \u001b[39m# Строим графики по каждому алгоритму\u001b[39;00m\n\u001b[1;32m      2\u001b[0m \u001b[39mfor\u001b[39;00m pathfinder \u001b[39min\u001b[39;00m df[\u001b[39m\"\u001b[39m\u001b[39mpathfinder\u001b[39m\u001b[39m\"\u001b[39m]\u001b[39m.\u001b[39munique():\n\u001b[0;32m----> 3\u001b[0m     plot_pathfinder_vertex_count(pathfinder)\n\u001b[1;32m      4\u001b[0m     plot_pathfinder_edge_count(pathfinder)\n",
      "Cell \u001b[0;32mIn[37], line 8\u001b[0m, in \u001b[0;36mplot_pathfinder_vertex_count\u001b[0;34m(pathfinder)\u001b[0m\n\u001b[1;32m      4\u001b[0m \u001b[39mfor\u001b[39;00m graph_type \u001b[39min\u001b[39;00m filtered_df[\u001b[39m\"\u001b[39m\u001b[39mgraph_type\u001b[39m\u001b[39m\"\u001b[39m]\u001b[39m.\u001b[39munique():\n\u001b[1;32m      5\u001b[0m     \u001b[39mprint\u001b[39m(graph_type)\n\u001b[1;32m      6\u001b[0m     plt\u001b[39m.\u001b[39mplot(filtered_df[filtered_df[\u001b[39m\"\u001b[39m\u001b[39mgraph_type\u001b[39m\u001b[39m\"\u001b[39m] \u001b[39m==\u001b[39m graph_type][\u001b[39m\"\u001b[39m\u001b[39mvertex_count\u001b[39m\u001b[39m\"\u001b[39m], \n\u001b[1;32m      7\u001b[0m              filtered_df[filtered_df[\u001b[39m\"\u001b[39m\u001b[39mgraph_type\u001b[39m\u001b[39m\"\u001b[39m] \u001b[39m==\u001b[39m graph_type][\u001b[39m\"\u001b[39m\u001b[39mtime_nanos\u001b[39m\u001b[39m\"\u001b[39m], \n\u001b[0;32m----> 8\u001b[0m              label\u001b[39m=\u001b[39mgraph_type_to_readable(graph_type))\n\u001b[1;32m      9\u001b[0m plt\u001b[39m.\u001b[39mgrid()\n\u001b[1;32m     10\u001b[0m plt\u001b[39m.\u001b[39mlegend()\n",
      "Cell \u001b[0;32mIn[36], line 3\u001b[0m, in \u001b[0;36mgraph_type_to_readable\u001b[0;34m(graph_type)\u001b[0m\n\u001b[1;32m      1\u001b[0m \u001b[39mdef\u001b[39;00m \u001b[39mgraph_type_to_readable\u001b[39m(graph_type: \u001b[39mstr\u001b[39m) \u001b[39m-\u001b[39m\u001b[39m>\u001b[39m \u001b[39mstr\u001b[39m:\n\u001b[1;32m      2\u001b[0m     types \u001b[39m=\u001b[39m {\u001b[39m'\u001b[39m\u001b[39mFull\u001b[39m\u001b[39m'\u001b[39m: \u001b[39m'\u001b[39m\u001b[39mПолные графы\u001b[39m\u001b[39m'\u001b[39m, \u001b[39m'\u001b[39m\u001b[39mPartial\u001b[39m\u001b[39m'\u001b[39m: \u001b[39m'\u001b[39m\u001b[39mСвязные графы\u001b[39m\u001b[39m'\u001b[39m, \u001b[39m'\u001b[39m\u001b[39mTree\u001b[39m\u001b[39m'\u001b[39m: \u001b[39m'\u001b[39m\u001b[39mРазреженные графы\u001b[39m\u001b[39m'\u001b[39m}\n\u001b[0;32m----> 3\u001b[0m     \u001b[39mreturn\u001b[39;00m types[graph_type]\n",
      "\u001b[0;31mKeyError\u001b[0m: 10"
     ]
    }
   ],
   "source": [
    "# Строим графики по каждому алгоритму\n",
    "for pathfinder in df[\"pathfinder\"].unique():\n",
    "    plot_pathfinder_vertex_count(pathfinder)\n",
    "    plot_pathfinder_edge_count(pathfinder)"
   ]
  },
  {
   "cell_type": "code",
   "execution_count": null,
   "metadata": {},
   "outputs": [],
   "source": [
    "# Строим графики по всем алгоритмам\n",
    "for graph_type in df[\"graph_type\"].unique():\n",
    "    plot_graph_type_vertex_count(graph_type)\n",
    "    plot_graph_type_edge_count(graph_type)"
   ]
  }
 ],
 "metadata": {
  "kernelspec": {
   "display_name": "Python 3",
   "language": "python",
   "name": "python3"
  },
  "language_info": {
   "codemirror_mode": {
    "name": "ipython",
    "version": 3
   },
   "file_extension": ".py",
   "mimetype": "text/x-python",
   "name": "python",
   "nbconvert_exporter": "python",
   "pygments_lexer": "ipython3",
   "version": "3.11.3"
  },
  "orig_nbformat": 4
 },
 "nbformat": 4,
 "nbformat_minor": 2
}
